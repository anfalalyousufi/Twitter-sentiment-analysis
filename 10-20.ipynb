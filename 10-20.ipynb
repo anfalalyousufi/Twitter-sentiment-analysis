{
 "cells": [
  {
   "cell_type": "code",
   "execution_count": null,
   "metadata": {},
   "outputs": [],
   "source": []
  },
  {
   "cell_type": "code",
   "execution_count": 112,
   "metadata": {},
   "outputs": [],
   "source": [
    "import re\n",
    "import pandas as pd \n",
    "import numpy as np \n",
    "import matplotlib.pyplot as plt \n",
    "import seaborn as sns\n",
    "import string\n",
    "\n",
    "import tweepy                  #Getting twitter data like tweets, followers, friends\n",
    "\n",
    "import nltk\n",
    "from textblob import TextBlob  #Sentiment analysis\n",
    "\n",
    "import networkx as nx          #Drawing & analyzing network\n",
    "\n",
    "import warnings \n",
    "warnings.filterwarnings(\"ignore\", category=DeprecationWarning)"
   ]
  },
  {
   "cell_type": "code",
   "execution_count": 113,
   "metadata": {},
   "outputs": [],
   "source": [
    "\n",
    "#--------------------------------------------------\n",
    "\n",
    "t_credentials = dict()\n",
    "#These are the credentials obtained by setting up your twitter developer account\n",
    "t_credentials['CONSUMER_KEY'] = 'RmYMHj3RwVL2qj2sB9V0jbGB2'  \n",
    "t_credentials['CONSUMER_SECRET'] = 'rwkLatJck2pvHEeljerwWfwYi6Wf0Tquy90UyERunzFeXCAlW7'\n",
    "t_credentials['TOKEN_KEY'] = '590766984-MJRgfipJLzhQt2R6VcktfsANXtiH6Rs87MUpl6ly'\n",
    "t_credentials['TOKEN_SECRET'] = 'P6hl0Lwfclbcz4JjAWb9ILrTkyrPGB6cpd0UVGKmgGcZU'\n",
    "\n",
    "#load Twitter API credentials\n",
    "consumer_key = t_credentials['CONSUMER_KEY']\n",
    "consumer_secret = t_credentials['CONSUMER_SECRET']\n",
    "access_key = t_credentials['TOKEN_KEY']\n",
    "access_secret = t_credentials['TOKEN_SECRET']\n",
    "\n",
    "auth = tweepy.OAuthHandler(consumer_key, consumer_secret)\n",
    "auth.set_access_token(access_key, access_secret)\n",
    "api = tweepy.API(auth,wait_on_rate_limit=True)\n",
    "\n",
    "\n",
    "#------------------------------------------\n",
    "\n"
   ]
  },
  {
   "cell_type": "code",
   "execution_count": 188,
   "metadata": {},
   "outputs": [
    {
     "name": "stdout",
     "output_type": "stream",
     "text": [
      "100---0   2019-10-19 15:40:58\n",
      "Name: created_at, dtype: datetime64[ns]\n",
      "200---0   2019-10-19 12:03:08\n",
      "Name: created_at, dtype: datetime64[ns]\n",
      "300---0   2019-10-19 01:16:40\n",
      "Name: created_at, dtype: datetime64[ns]\n",
      "(347, 13)\n",
      "2019-10-17 20:21:32\n",
      "2019-10-19 23:39:12\n",
      "840\n",
      "['@walidjoumblatt']\n"
     ]
    },
    {
     "data": {
      "text/html": [
       "<div>\n",
       "<style scoped>\n",
       "    .dataframe tbody tr th:only-of-type {\n",
       "        vertical-align: middle;\n",
       "    }\n",
       "\n",
       "    .dataframe tbody tr th {\n",
       "        vertical-align: top;\n",
       "    }\n",
       "\n",
       "    .dataframe thead th {\n",
       "        text-align: right;\n",
       "    }\n",
       "</style>\n",
       "<table border=\"1\" class=\"dataframe\">\n",
       "  <thead>\n",
       "    <tr style=\"text-align: right;\">\n",
       "      <th></th>\n",
       "      <th>created_at</th>\n",
       "      <th>screen_name</th>\n",
       "      <th>location</th>\n",
       "      <th>followers_count</th>\n",
       "      <th>friends_count</th>\n",
       "      <th>retweeted</th>\n",
       "      <th>retweet_count</th>\n",
       "      <th>text</th>\n",
       "      <th>tags</th>\n",
       "      <th>mentions</th>\n",
       "      <th>source</th>\n",
       "      <th>tweet_sentiment_polarity</th>\n",
       "      <th>tweet_sentiment_subjectivity</th>\n",
       "    </tr>\n",
       "  </thead>\n",
       "  <tbody>\n",
       "    <tr>\n",
       "      <th>0</th>\n",
       "      <td>2019-10-19 23:39:12</td>\n",
       "      <td>user_264</td>\n",
       "      <td>Stark State</td>\n",
       "      <td>6797</td>\n",
       "      <td>2709</td>\n",
       "      <td>False</td>\n",
       "      <td>0</td>\n",
       "      <td>whoever is in Sydney and is Lebanese, I’ll be ...</td>\n",
       "      <td>[#lebanon, #lebanese, #lebanonprotest, #lebane...</td>\n",
       "      <td>[]</td>\n",
       "      <td>Twitter for iPhone</td>\n",
       "      <td>0.000000</td>\n",
       "      <td>0.000000</td>\n",
       "    </tr>\n",
       "    <tr>\n",
       "      <th>1</th>\n",
       "      <td>2019-10-19 23:31:35</td>\n",
       "      <td>user_16</td>\n",
       "      <td>Los Angeles</td>\n",
       "      <td>104</td>\n",
       "      <td>195</td>\n",
       "      <td>False</td>\n",
       "      <td>0</td>\n",
       "      <td>@antoinesaad12 #Lebanon #lebanonprotest  We th...</td>\n",
       "      <td>[#lebanon, #lebanonprotest]</td>\n",
       "      <td>[@antoinesaad12]</td>\n",
       "      <td>Twitter for iPhone</td>\n",
       "      <td>0.000000</td>\n",
       "      <td>0.000000</td>\n",
       "    </tr>\n",
       "    <tr>\n",
       "      <th>2</th>\n",
       "      <td>2019-10-19 23:16:46</td>\n",
       "      <td>user_151</td>\n",
       "      <td>Melbourne, Victoria</td>\n",
       "      <td>285</td>\n",
       "      <td>186</td>\n",
       "      <td>False</td>\n",
       "      <td>2</td>\n",
       "      <td>Even during their time at night protesting aga...</td>\n",
       "      <td>[#lebanon, #lebanonprotest, #lebanesetakeover,...</td>\n",
       "      <td>[]</td>\n",
       "      <td>Twitter for iPhone</td>\n",
       "      <td>0.250000</td>\n",
       "      <td>0.350000</td>\n",
       "    </tr>\n",
       "    <tr>\n",
       "      <th>3</th>\n",
       "      <td>2019-10-19 23:07:14</td>\n",
       "      <td>user_193</td>\n",
       "      <td>Canada</td>\n",
       "      <td>352</td>\n",
       "      <td>254</td>\n",
       "      <td>False</td>\n",
       "      <td>2</td>\n",
       "      <td>@joemaalouftv Change can be at times difficult...</td>\n",
       "      <td>[#lebanonprotest, #لبنان_ينتفض]</td>\n",
       "      <td>[@joemaalouftv]</td>\n",
       "      <td>Twitter for iPad</td>\n",
       "      <td>0.257143</td>\n",
       "      <td>0.727143</td>\n",
       "    </tr>\n",
       "    <tr>\n",
       "      <th>4</th>\n",
       "      <td>2019-10-19 22:57:50</td>\n",
       "      <td>user_146</td>\n",
       "      <td>United States</td>\n",
       "      <td>13399</td>\n",
       "      <td>7846</td>\n",
       "      <td>False</td>\n",
       "      <td>0</td>\n",
       "      <td>Thread by @love4thegameAK: \"Unbelievable prote...</td>\n",
       "      <td>[#lebanonprotest, #wwg1wga_worldwide, #lebanon]</td>\n",
       "      <td>[@love4thegameAK]</td>\n",
       "      <td>Twitter for iPad</td>\n",
       "      <td>-0.256250</td>\n",
       "      <td>0.618750</td>\n",
       "    </tr>\n",
       "  </tbody>\n",
       "</table>\n",
       "</div>"
      ],
      "text/plain": [
       "           created_at screen_name             location followers_count  \\\n",
       "0 2019-10-19 23:39:12    user_264          Stark State            6797   \n",
       "1 2019-10-19 23:31:35     user_16         Los Angeles              104   \n",
       "2 2019-10-19 23:16:46    user_151  Melbourne, Victoria             285   \n",
       "3 2019-10-19 23:07:14    user_193               Canada             352   \n",
       "4 2019-10-19 22:57:50    user_146        United States           13399   \n",
       "\n",
       "  friends_count retweeted retweet_count  \\\n",
       "0          2709     False             0   \n",
       "1           195     False             0   \n",
       "2           186     False             2   \n",
       "3           254     False             2   \n",
       "4          7846     False             0   \n",
       "\n",
       "                                                text  \\\n",
       "0  whoever is in Sydney and is Lebanese, I’ll be ...   \n",
       "1  @antoinesaad12 #Lebanon #lebanonprotest  We th...   \n",
       "2  Even during their time at night protesting aga...   \n",
       "3  @joemaalouftv Change can be at times difficult...   \n",
       "4  Thread by @love4thegameAK: \"Unbelievable prote...   \n",
       "\n",
       "                                                tags           mentions  \\\n",
       "0  [#lebanon, #lebanese, #lebanonprotest, #lebane...                 []   \n",
       "1                        [#lebanon, #lebanonprotest]   [@antoinesaad12]   \n",
       "2  [#lebanon, #lebanonprotest, #lebanesetakeover,...                 []   \n",
       "3                    [#lebanonprotest, #لبنان_ينتفض]    [@joemaalouftv]   \n",
       "4    [#lebanonprotest, #wwg1wga_worldwide, #lebanon]  [@love4thegameAK]   \n",
       "\n",
       "               source  tweet_sentiment_polarity  tweet_sentiment_subjectivity  \n",
       "0  Twitter for iPhone                  0.000000                      0.000000  \n",
       "1  Twitter for iPhone                  0.000000                      0.000000  \n",
       "2  Twitter for iPhone                  0.250000                      0.350000  \n",
       "3    Twitter for iPad                  0.257143                      0.727143  \n",
       "4    Twitter for iPad                 -0.256250                      0.618750  "
      ]
     },
     "execution_count": 188,
     "metadata": {},
     "output_type": "execute_result"
    }
   ],
   "source": [
    "hash_tags = '#lebanonprotest-filter:retweets'\n",
    "#tweet_df = pd.read_csv('100000_Tweets.csv',lineterminator='\\n')\n",
    "tweet_cols = ['created_at','screen_name','location','followers_count','friends_count','retweeted','retweet_count',\n",
    "              'text','tags','mentions','source']\n",
    "tweet_df['dummy_count'] = 1\n",
    "tweet_df = pd.DataFrame(columns = tweet_cols)\n",
    "for tweet in tweepy.Cursor(api.search,q=hash_tags, result_type='mixec',  #Example Values: mixed, recent, popular\n",
    "                           lang=\"en\",tweet_mode='extended',until='2019-10-20',wait_on_rate_limit=True).items(40000):\n",
    "    tags=[]\n",
    "    for i in range(len(tweet.entities['hashtags'])):\n",
    "        tags.append('#'+tweet.entities['hashtags'][i]['text'].lower())\n",
    "    mentions = []\n",
    "    for i in range(len(tweet.entities['user_mentions'])):\n",
    "        mentions.append('@'+tweet.entities['user_mentions'][i]['screen_name'])\n",
    "    df = pd.DataFrame([[tweet.created_at,tweet.user.screen_name,tweet.user.location,tweet.user.followers_count,\n",
    "                        tweet.user.friends_count,tweet.retweeted,tweet.retweet_count,tweet.full_text,tags,mentions,tweet.source]],columns = tweet_cols)\n",
    "    tweet_df = tweet_df.append(df)\n",
    "    tweet_df_rows = tweet_df.shape[0]\n",
    "    if(tweet_df_rows%100==0):\n",
    "        print(str(tweet_df_rows)+'---'+str(df['created_at']))\n",
    "tweet_df.reset_index(drop=True,inplace=True)\n",
    "tweet_df = tweet_df.sort_values(['created_at'],ascending=[False])\n",
    "\n",
    "#Map the twitter user names into ids\n",
    "\n",
    "tweeters = sorted(list(set(list(tweet_df['screen_name']))))\n",
    "tweeters_id = [('user_'+str(i)) for i in range(len(tweeters))]\n",
    "mapping_dict = {tweeters[i]:tweeters_id[i] for i in range(len(tweeters))}\n",
    "tweet_df['screen_name'] = tweet_df['screen_name'].map(mapping_dict)\n",
    "\n",
    "\n",
    "def clean_tweet(tweet):\n",
    "    return ' '.join(re.sub(\"(@[A-Za-z0-9]+)|([^0-9A-Za-z \\t])|(\\w+:\\/\\/\\S+)\", \" \", tweet).split())\n",
    "\n",
    "def fill_sentiments(tweet_df):\n",
    "    tweet_df['tweet_sentiment_polarity'] = 0.0\n",
    "    tweet_df['tweet_sentiment_subjectivity'] = 0.0\n",
    "    for index,row in tweet_df.iterrows():\n",
    "        cleaned_tweet = row['text']\n",
    "        s_analysis = TextBlob(cleaned_tweet)\n",
    "        tweet_df.at[index,'tweet_sentiment_polarity'] = s_analysis.sentiment.polarity\n",
    "        tweet_df.at[index,'tweet_sentiment_subjectivity'] = s_analysis.sentiment.subjectivity\n",
    "    return tweet_df\n",
    "\n",
    "tweet_df = fill_sentiments(tweet_df)\n",
    "\n",
    "print(tweet_df.shape)\n",
    "print(tweet_df['created_at'].min())\n",
    "print(tweet_df['created_at'].max())\n",
    "print(tweet_df['retweet_count'].max())\n",
    "print(tweet_df['mentions'].max())\n",
    "#print (tweet_df['mentions'])\n",
    "\n",
    "tweet_df.head()\n",
    "\n"
   ]
  },
  {
   "cell_type": "code",
   "execution_count": 115,
   "metadata": {},
   "outputs": [
    {
     "data": {
      "text/plain": [
       "273"
      ]
     },
     "execution_count": 115,
     "metadata": {},
     "output_type": "execute_result"
    }
   ],
   "source": [
    "len(set(tweet_df['screen_name']))"
   ]
  },
  {
   "cell_type": "markdown",
   "metadata": {},
   "source": [
    "#### calculate sentiment in tweets"
   ]
  },
  {
   "cell_type": "code",
   "execution_count": 116,
   "metadata": {},
   "outputs": [
    {
     "name": "stdout",
     "output_type": "stream",
     "text": [
      "0.7635416666666666\n",
      "-0.5\n",
      "(32, 5)\n"
     ]
    },
    {
     "data": {
      "text/html": [
       "<div>\n",
       "<style scoped>\n",
       "    .dataframe tbody tr th:only-of-type {\n",
       "        vertical-align: middle;\n",
       "    }\n",
       "\n",
       "    .dataframe tbody tr th {\n",
       "        vertical-align: top;\n",
       "    }\n",
       "\n",
       "    .dataframe thead th {\n",
       "        text-align: right;\n",
       "    }\n",
       "</style>\n",
       "<table border=\"1\" class=\"dataframe\">\n",
       "  <thead>\n",
       "    <tr style=\"text-align: right;\">\n",
       "      <th></th>\n",
       "      <th>screen_name</th>\n",
       "      <th>total_tweet_count</th>\n",
       "      <th>total_retweet_count</th>\n",
       "      <th>agg_sentiment_polarity</th>\n",
       "      <th>agg_sentiment_subjectivity</th>\n",
       "    </tr>\n",
       "  </thead>\n",
       "  <tbody>\n",
       "    <tr>\n",
       "      <th>27</th>\n",
       "      <td>love4thegameAK</td>\n",
       "      <td>1</td>\n",
       "      <td>126</td>\n",
       "      <td>-0.00500</td>\n",
       "      <td>0.395000</td>\n",
       "    </tr>\n",
       "    <tr>\n",
       "      <th>28</th>\n",
       "      <td>marceldy</td>\n",
       "      <td>1</td>\n",
       "      <td>12</td>\n",
       "      <td>0.28125</td>\n",
       "      <td>0.500000</td>\n",
       "    </tr>\n",
       "    <tr>\n",
       "      <th>29</th>\n",
       "      <td>mgdowney</td>\n",
       "      <td>1</td>\n",
       "      <td>14</td>\n",
       "      <td>0.00000</td>\n",
       "      <td>0.066667</td>\n",
       "    </tr>\n",
       "    <tr>\n",
       "      <th>30</th>\n",
       "      <td>outro_hoseok</td>\n",
       "      <td>1</td>\n",
       "      <td>108</td>\n",
       "      <td>0.00000</td>\n",
       "      <td>0.000000</td>\n",
       "    </tr>\n",
       "    <tr>\n",
       "      <th>31</th>\n",
       "      <td>shayxbee</td>\n",
       "      <td>1</td>\n",
       "      <td>13</td>\n",
       "      <td>0.00000</td>\n",
       "      <td>0.000000</td>\n",
       "    </tr>\n",
       "  </tbody>\n",
       "</table>\n",
       "</div>"
      ],
      "text/plain": [
       "       screen_name  total_tweet_count  total_retweet_count  \\\n",
       "27  love4thegameAK                  1                  126   \n",
       "28        marceldy                  1                   12   \n",
       "29        mgdowney                  1                   14   \n",
       "30    outro_hoseok                  1                  108   \n",
       "31        shayxbee                  1                   13   \n",
       "\n",
       "    agg_sentiment_polarity  agg_sentiment_subjectivity  \n",
       "27                -0.00500                    0.395000  \n",
       "28                 0.28125                    0.500000  \n",
       "29                 0.00000                    0.066667  \n",
       "30                 0.00000                    0.000000  \n",
       "31                 0.00000                    0.000000  "
      ]
     },
     "execution_count": 116,
     "metadata": {},
     "output_type": "execute_result"
    }
   ],
   "source": [
    "retweet_threshold=10\n",
    "tweet_df['dummy_count'] = 1\n",
    "retweets_df = tweet_df[['screen_name','retweet_count']].groupby('screen_name').sum()\n",
    "followers_df = tweet_df[['screen_name','followers_count']].groupby('screen_name').max() #Max of the week\n",
    "friends_df= tweet_df[['screen_name','friends_count']].groupby('screen_name').max()  #Max of the week\n",
    "sentiment_polarity_df = tweet_df[['screen_name','tweet_sentiment_polarity']].groupby('screen_name').sum()\n",
    "sentiment_subjectivity_df = tweet_df[['screen_name','tweet_sentiment_subjectivity']].groupby('screen_name').sum()\n",
    "tweet_count_df = tweet_df[['screen_name','dummy_count']].groupby('screen_name').sum()\n",
    "\n",
    "stats_df = pd.concat([tweet_count_df,retweets_df,followers_df,friends_df,\n",
    "                            sentiment_polarity_df,sentiment_subjectivity_df],axis='columns')\n",
    "stats_df['screen_name'] = stats_df.index\n",
    "stats_df = stats_df[['screen_name','dummy_count','retweet_count',\n",
    "                                 'tweet_sentiment_polarity','tweet_sentiment_subjectivity']]\n",
    "stats_df = stats_df.rename(columns={\"retweet_count\":\"total_retweet_count\",\"dummy_count\":\"total_tweet_count\",\n",
    "                                                \"tweet_sentiment_polarity\":\"agg_sentiment_polarity\",\n",
    "                                                \"tweet_sentiment_subjectivity\":\"agg_sentiment_subjectivity\"})\n",
    "stats_df = stats_df[stats_df['total_retweet_count']>=retweet_threshold]\n",
    "stats_df['agg_sentiment_polarity'] = stats_df['agg_sentiment_polarity']/stats_df['total_tweet_count']\n",
    "stats_df['agg_sentiment_subjectivity'] = stats_df['agg_sentiment_subjectivity']/stats_df['total_tweet_count']\n",
    "stats_df.reset_index(drop=True,inplace=True)\n",
    "print(stats_df['agg_sentiment_polarity'].max())\n",
    "print(stats_df['agg_sentiment_polarity'].min())\n",
    "print(stats_df.shape)\n",
    "stats_df.tail()"
   ]
  },
  {
   "cell_type": "markdown",
   "metadata": {},
   "source": [
    "### checking the number of people tweeted about the hashtag this week"
   ]
  },
  {
   "cell_type": "code",
   "execution_count": 192,
   "metadata": {},
   "outputs": [
    {
     "name": "stdout",
     "output_type": "stream",
     "text": [
      "Number of #lebanonprotest in 1 week  is: 273\n"
     ]
    }
   ],
   "source": [
    "tweeters = set(tweet_df['screen_name'])\n",
    "all_tweeters = tweeters\n",
    "print(\"Number of #lebanonprotest in 1 week  is: \" + str(len(all_tweeters)))\n",
    "\n"
   ]
  },
  {
   "cell_type": "markdown",
   "metadata": {},
   "source": [
    "#### Screen only the most popular twitter users whose aggregate retweets for the week > retweet_threshold"
   ]
  },
  {
   "cell_type": "code",
   "execution_count": 124,
   "metadata": {},
   "outputs": [
    {
     "name": "stdout",
     "output_type": "stream",
     "text": [
      "Number of #lebanonprotest (popular_tweeters + retweet_threshold) tweeters in 1 week is: 32\n"
     ]
    }
   ],
   "source": [
    "popular_tweeters = set(stats_df['screen_name'])\n",
    "print(\"Number of #lebanonprotest (popular_tweeters + retweet_threshold) tweeters in 1 week is: \" + str(len(popular_tweeters)))\n",
    "\n"
   ]
  },
  {
   "cell_type": "markdown",
   "metadata": {},
   "source": [
    "#### finding edges of the network"
   ]
  },
  {
   "cell_type": "code",
   "execution_count": 201,
   "metadata": {},
   "outputs": [
    {
     "name": "stdout",
     "output_type": "stream",
     "text": [
      "496 pairings\n",
      "(496, 5)\n"
     ]
    },
    {
     "data": {
      "text/html": [
       "<div>\n",
       "<style scoped>\n",
       "    .dataframe tbody tr th:only-of-type {\n",
       "        vertical-align: middle;\n",
       "    }\n",
       "\n",
       "    .dataframe tbody tr th {\n",
       "        vertical-align: top;\n",
       "    }\n",
       "\n",
       "    .dataframe thead th {\n",
       "        text-align: right;\n",
       "    }\n",
       "</style>\n",
       "<table border=\"1\" class=\"dataframe\">\n",
       "  <thead>\n",
       "    <tr style=\"text-align: right;\">\n",
       "      <th></th>\n",
       "      <th>source_screen_name</th>\n",
       "      <th>destination_screen_name</th>\n",
       "      <th>has_mutual_following</th>\n",
       "      <th>source_follow_dest</th>\n",
       "      <th>dest_follow_source</th>\n",
       "    </tr>\n",
       "  </thead>\n",
       "  <tbody>\n",
       "    <tr>\n",
       "      <th>0</th>\n",
       "      <td>Cairo67Unedited</td>\n",
       "      <td>MagCrisis</td>\n",
       "      <td>False</td>\n",
       "      <td>False</td>\n",
       "      <td>False</td>\n",
       "    </tr>\n",
       "    <tr>\n",
       "      <th>1</th>\n",
       "      <td>Cairo67Unedited</td>\n",
       "      <td>_lailaa1</td>\n",
       "      <td>False</td>\n",
       "      <td>False</td>\n",
       "      <td>False</td>\n",
       "    </tr>\n",
       "    <tr>\n",
       "      <th>2</th>\n",
       "      <td>Cairo67Unedited</td>\n",
       "      <td>ahmad_safadi1</td>\n",
       "      <td>False</td>\n",
       "      <td>False</td>\n",
       "      <td>False</td>\n",
       "    </tr>\n",
       "    <tr>\n",
       "      <th>3</th>\n",
       "      <td>Cairo67Unedited</td>\n",
       "      <td>IranFredomWatch</td>\n",
       "      <td>False</td>\n",
       "      <td>False</td>\n",
       "      <td>False</td>\n",
       "    </tr>\n",
       "    <tr>\n",
       "      <th>4</th>\n",
       "      <td>Cairo67Unedited</td>\n",
       "      <td>PressTV</td>\n",
       "      <td>False</td>\n",
       "      <td>False</td>\n",
       "      <td>False</td>\n",
       "    </tr>\n",
       "  </tbody>\n",
       "</table>\n",
       "</div>"
      ],
      "text/plain": [
       "  source_screen_name destination_screen_name  has_mutual_following  \\\n",
       "0    Cairo67Unedited               MagCrisis                 False   \n",
       "1    Cairo67Unedited                _lailaa1                 False   \n",
       "2    Cairo67Unedited           ahmad_safadi1                 False   \n",
       "3    Cairo67Unedited         IranFredomWatch                 False   \n",
       "4    Cairo67Unedited                 PressTV                 False   \n",
       "\n",
       "   source_follow_dest  dest_follow_source  \n",
       "0               False               False  \n",
       "1               False               False  \n",
       "2               False               False  \n",
       "3               False               False  \n",
       "4               False               False  "
      ]
     },
     "execution_count": 201,
     "metadata": {},
     "output_type": "execute_result"
    }
   ],
   "source": [
    "nodes = list(popular_tweeters)\n",
    "def create_pairings(source):\n",
    "        result = []\n",
    "        for p1 in range(len(source)):\n",
    "                for p2 in range(p1+1,len(source)):\n",
    "                        result.append([source[p1],source[p2]])\n",
    "        return result\n",
    "\n",
    "pairings = create_pairings(nodes)\n",
    "print(\"%d pairings\" % len(pairings))\n",
    "\n",
    "#Map the twitter user names into ids\n",
    "\n",
    "tweeters = sorted(list(set(list(tweet_df['screen_name']))))\n",
    "tweeters_id = [('user_'+str(i)) for i in range(len(tweeters))]\n",
    "mapping_dict = {tweeters[i]:tweeters_id[i] for i in range(len(tweeters))}\n",
    "tweet_df['screen_name'] = tweet_df['screen_name'].map(mapping_dict)\n",
    "\n",
    "#---#\n",
    "screen_name_cols = ['source_screen_name','destination_screen_name']\n",
    "network_df = pd.DataFrame(pairings, columns = screen_name_cols)\n",
    "network_df['has_mutual_following'] = False #Initialize it to false then compute the follower friend mutual relations\n",
    "network_df['source_follow_dest'] = False\n",
    "network_df['dest_follow_source'] = False  #source is a friend of dest\n",
    "print(network_df.shape)\n",
    "network_df.head()"
   ]
  },
  {
   "cell_type": "markdown",
   "metadata": {},
   "source": [
    "#### Mutual following info among the list of popular the users \"takes about 1 hour\""
   ]
  },
  {
   "cell_type": "code",
   "execution_count": 164,
   "metadata": {},
   "outputs": [
    {
     "name": "stdout",
     "output_type": "stream",
     "text": [
      "496 pairings\n",
      "(496, 5)\n"
     ]
    },
    {
     "data": {
      "text/html": [
       "<div>\n",
       "<style scoped>\n",
       "    .dataframe tbody tr th:only-of-type {\n",
       "        vertical-align: middle;\n",
       "    }\n",
       "\n",
       "    .dataframe tbody tr th {\n",
       "        vertical-align: top;\n",
       "    }\n",
       "\n",
       "    .dataframe thead th {\n",
       "        text-align: right;\n",
       "    }\n",
       "</style>\n",
       "<table border=\"1\" class=\"dataframe\">\n",
       "  <thead>\n",
       "    <tr style=\"text-align: right;\">\n",
       "      <th></th>\n",
       "      <th>source_screen_name</th>\n",
       "      <th>destination_screen_name</th>\n",
       "      <th>has_mutual_following</th>\n",
       "      <th>source_follow_dest</th>\n",
       "      <th>dest_follow_source</th>\n",
       "    </tr>\n",
       "  </thead>\n",
       "  <tbody>\n",
       "    <tr>\n",
       "      <th>0</th>\n",
       "      <td>Cairo67Unedited</td>\n",
       "      <td>MagCrisis</td>\n",
       "      <td>False</td>\n",
       "      <td>False</td>\n",
       "      <td>False</td>\n",
       "    </tr>\n",
       "    <tr>\n",
       "      <th>1</th>\n",
       "      <td>Cairo67Unedited</td>\n",
       "      <td>_lailaa1</td>\n",
       "      <td>False</td>\n",
       "      <td>False</td>\n",
       "      <td>False</td>\n",
       "    </tr>\n",
       "    <tr>\n",
       "      <th>2</th>\n",
       "      <td>Cairo67Unedited</td>\n",
       "      <td>ahmad_safadi1</td>\n",
       "      <td>False</td>\n",
       "      <td>False</td>\n",
       "      <td>False</td>\n",
       "    </tr>\n",
       "    <tr>\n",
       "      <th>3</th>\n",
       "      <td>Cairo67Unedited</td>\n",
       "      <td>IranFredomWatch</td>\n",
       "      <td>False</td>\n",
       "      <td>False</td>\n",
       "      <td>False</td>\n",
       "    </tr>\n",
       "    <tr>\n",
       "      <th>4</th>\n",
       "      <td>Cairo67Unedited</td>\n",
       "      <td>PressTV</td>\n",
       "      <td>False</td>\n",
       "      <td>False</td>\n",
       "      <td>False</td>\n",
       "    </tr>\n",
       "  </tbody>\n",
       "</table>\n",
       "</div>"
      ],
      "text/plain": [
       "  source_screen_name destination_screen_name  has_mutual_following  \\\n",
       "0    Cairo67Unedited               MagCrisis                 False   \n",
       "1    Cairo67Unedited                _lailaa1                 False   \n",
       "2    Cairo67Unedited           ahmad_safadi1                 False   \n",
       "3    Cairo67Unedited         IranFredomWatch                 False   \n",
       "4    Cairo67Unedited                 PressTV                 False   \n",
       "\n",
       "   source_follow_dest  dest_follow_source  \n",
       "0               False               False  \n",
       "1               False               False  \n",
       "2               False               False  \n",
       "3               False               False  \n",
       "4               False               False  "
      ]
     },
     "execution_count": 164,
     "metadata": {},
     "output_type": "execute_result"
    }
   ],
   "source": [
    "nodes = list(popular_tweeters)\n",
    "network_df.to_csv('100000_Tweets.csv'+str(retweet_threshold))\n",
    "\n",
    "def create_pairings(source):\n",
    "        result = []\n",
    "        for p1 in range(len(source)):\n",
    "                for p2 in range(p1+1,len(source)):\n",
    "                        result.append([source[p1],source[p2]])\n",
    "        return result\n",
    "\n",
    "pairings = create_pairings(nodes)\n",
    "print(\"%d pairings\" % len(pairings))\n",
    "\n",
    "screen_name_cols = ['source_screen_name','destination_screen_name']\n",
    "network_df = pd.DataFrame(pairings, columns = screen_name_cols)\n",
    "network_df['has_mutual_following'] = False #Initialize it to false then compute the follower friend mutual relations\n",
    "network_df['source_follow_dest'] = False\n",
    "network_df['dest_follow_source'] = False  #source is a friend of dest\n",
    "\n",
    "\n",
    "\n",
    "print(network_df.shape)\n",
    "network_df.head()\n"
   ]
  },
  {
   "cell_type": "code",
   "execution_count": 167,
   "metadata": {},
   "outputs": [
    {
     "name": "stdout",
     "output_type": "stream",
     "text": [
      "(496, 5)\n"
     ]
    },
    {
     "data": {
      "text/html": [
       "<div>\n",
       "<style scoped>\n",
       "    .dataframe tbody tr th:only-of-type {\n",
       "        vertical-align: middle;\n",
       "    }\n",
       "\n",
       "    .dataframe tbody tr th {\n",
       "        vertical-align: top;\n",
       "    }\n",
       "\n",
       "    .dataframe thead th {\n",
       "        text-align: right;\n",
       "    }\n",
       "</style>\n",
       "<table border=\"1\" class=\"dataframe\">\n",
       "  <thead>\n",
       "    <tr style=\"text-align: right;\">\n",
       "      <th></th>\n",
       "      <th>source_screen_name</th>\n",
       "      <th>destination_screen_name</th>\n",
       "      <th>has_mutual_following</th>\n",
       "      <th>source_follow_dest</th>\n",
       "      <th>dest_follow_source</th>\n",
       "    </tr>\n",
       "  </thead>\n",
       "  <tbody>\n",
       "    <tr>\n",
       "      <th>0</th>\n",
       "      <td>NaN</td>\n",
       "      <td>NaN</td>\n",
       "      <td>False</td>\n",
       "      <td>False</td>\n",
       "      <td>False</td>\n",
       "    </tr>\n",
       "    <tr>\n",
       "      <th>1</th>\n",
       "      <td>NaN</td>\n",
       "      <td>NaN</td>\n",
       "      <td>False</td>\n",
       "      <td>False</td>\n",
       "      <td>False</td>\n",
       "    </tr>\n",
       "    <tr>\n",
       "      <th>2</th>\n",
       "      <td>NaN</td>\n",
       "      <td>NaN</td>\n",
       "      <td>False</td>\n",
       "      <td>False</td>\n",
       "      <td>False</td>\n",
       "    </tr>\n",
       "    <tr>\n",
       "      <th>3</th>\n",
       "      <td>NaN</td>\n",
       "      <td>NaN</td>\n",
       "      <td>False</td>\n",
       "      <td>False</td>\n",
       "      <td>False</td>\n",
       "    </tr>\n",
       "    <tr>\n",
       "      <th>4</th>\n",
       "      <td>NaN</td>\n",
       "      <td>NaN</td>\n",
       "      <td>False</td>\n",
       "      <td>False</td>\n",
       "      <td>False</td>\n",
       "    </tr>\n",
       "  </tbody>\n",
       "</table>\n",
       "</div>"
      ],
      "text/plain": [
       "  source_screen_name destination_screen_name  has_mutual_following  \\\n",
       "0                NaN                     NaN                 False   \n",
       "1                NaN                     NaN                 False   \n",
       "2                NaN                     NaN                 False   \n",
       "3                NaN                     NaN                 False   \n",
       "4                NaN                     NaN                 False   \n",
       "\n",
       "   source_follow_dest  dest_follow_source  \n",
       "0               False               False  \n",
       "1               False               False  \n",
       "2               False               False  \n",
       "3               False               False  \n",
       "4               False               False  "
      ]
     },
     "execution_count": 167,
     "metadata": {},
     "output_type": "execute_result"
    }
   ],
   "source": [
    "network_df = pd.read_csv('100000_Tweets.csv'+str(retweet_threshold))#load from saved\n",
    "network_df = network_df.drop(columns='Unnamed: 0',axis=1)\n",
    "network_df['source_screen_name'] = network_df['source_screen_name'].map(mapping_dict)\n",
    "network_df['destination_screen_name'] = network_df['destination_screen_name'].map(mapping_dict)\n",
    "print(network_df.shape)\n",
    "network_df.head()"
   ]
  },
  {
   "cell_type": "markdown",
   "metadata": {},
   "source": [
    "#### Number of egdes (based on mutual following in the network)"
   ]
  },
  {
   "cell_type": "code",
   "execution_count": 126,
   "metadata": {},
   "outputs": [
    {
     "data": {
      "text/plain": [
       "7"
      ]
     },
     "execution_count": 126,
     "metadata": {},
     "output_type": "execute_result"
    }
   ],
   "source": [
    "network_df['has_mutual_following'].sum()"
   ]
  },
  {
   "cell_type": "code",
   "execution_count": 152,
   "metadata": {},
   "outputs": [
    {
     "data": {
      "text/plain": [
       "199998"
      ]
     },
     "execution_count": 152,
     "metadata": {},
     "output_type": "execute_result"
    }
   ],
   "source": [
    "network_df.at[index,'source_follow_dest'] = (ff_rel[0].following == True)\n",
    "network_df.at[index,'dest_follow_source'] = (ff_rel[0].followed_by == True)\n",
    "\n",
    "\n",
    "network_df['source_follow_dest'].sum() + network_df['dest_follow_source'].sum()"
   ]
  },
  {
   "cell_type": "code",
   "execution_count": 198,
   "metadata": {},
   "outputs": [
    {
     "name": "stdout",
     "output_type": "stream",
     "text": [
      "(0, 5)\n"
     ]
    },
    {
     "data": {
      "text/html": [
       "<div>\n",
       "<style scoped>\n",
       "    .dataframe tbody tr th:only-of-type {\n",
       "        vertical-align: middle;\n",
       "    }\n",
       "\n",
       "    .dataframe tbody tr th {\n",
       "        vertical-align: top;\n",
       "    }\n",
       "\n",
       "    .dataframe thead th {\n",
       "        text-align: right;\n",
       "    }\n",
       "</style>\n",
       "<table border=\"1\" class=\"dataframe\">\n",
       "  <thead>\n",
       "    <tr style=\"text-align: right;\">\n",
       "      <th></th>\n",
       "      <th>screen_name</th>\n",
       "      <th>total_tweet_count</th>\n",
       "      <th>total_retweet_count</th>\n",
       "      <th>agg_sentiment_polarity</th>\n",
       "      <th>agg_sentiment_subjectivity</th>\n",
       "    </tr>\n",
       "  </thead>\n",
       "  <tbody>\n",
       "  </tbody>\n",
       "</table>\n",
       "</div>"
      ],
      "text/plain": [
       "Empty DataFrame\n",
       "Columns: [screen_name, total_tweet_count, total_retweet_count, agg_sentiment_polarity, agg_sentiment_subjectivity]\n",
       "Index: []"
      ]
     },
     "execution_count": 198,
     "metadata": {},
     "output_type": "execute_result"
    }
   ],
   "source": [
    "network_stats_df = stats_df[stats_df['screen_name'].isin(all_tweeters)].copy()\n",
    "network_stats_df.reset_index(drop=True,inplace=True)\n",
    "\n",
    "print(network_stats_df.shape)\n",
    "network_stats_df.head()"
   ]
  },
  {
   "cell_type": "markdown",
   "metadata": {},
   "source": [
    "### Plot the mutual relation using networkx library"
   ]
  },
  {
   "cell_type": "code",
   "execution_count": 197,
   "metadata": {},
   "outputs": [],
   "source": [
    "network_stats_df = stats_df[stats_df['screen_name'].isin(all_tweeters)].copy()\n",
    "\n",
    "nodes = list(network_stats_df['screen_name'])\n",
    "pd.DataFrame(nodes,columns=['Twitter_users']).to_csv('nodes_list_retweet_thresh_'+str(retweet_threshold)+'.csv')\n",
    "size_of_nodes = list(network_stats_df['total_retweet_count'])\n",
    "color_of_nodes = list(network_stats_df['agg_sentiment_polarity']*2) #Multiply by 2 to see more contrast in colors\n",
    "mutual_follow_lol = network_df[['source_screen_name','destination_screen_name']][network_df['has_mutual_following']==True].values.tolist()\n",
    "pd.DataFrame(mutual_follow_lol,columns=['Twitter_user_1','Twitter_user_2'])\n",
    "mutual_follow_edges = []\n",
    "for mfe in mutual_follow_lol:\n",
    "    mutual_follow_edges.append((mfe[0],mfe[1]))\n",
    "\n",
    "G = nx.Graph()\n",
    "G.add_nodes_from(nodes)\n",
    "G.add_edges_from(mutual_follow_edges)"
   ]
  },
  {
   "cell_type": "markdown",
   "metadata": {},
   "source": [
    "#### Graph Algorithms : Connectivity"
   ]
  },
  {
   "cell_type": "code",
   "execution_count": 211,
   "metadata": {},
   "outputs": [
    {
     "ename": "SyntaxError",
     "evalue": "invalid syntax (<ipython-input-211-8ca4573dd7b1>, line 6)",
     "output_type": "error",
     "traceback": [
      "\u001b[1;36m  File \u001b[1;32m\"<ipython-input-211-8ca4573dd7b1>\"\u001b[1;36m, line \u001b[1;32m6\u001b[0m\n\u001b[1;33m    network_local_node_connectivity(G)\u001b[0m\n\u001b[1;37m                                  ^\u001b[0m\n\u001b[1;31mSyntaxError\u001b[0m\u001b[1;31m:\u001b[0m invalid syntax\n"
     ]
    }
   ],
   "source": [
    "### takes time\n",
    "import networkx as nx \n",
    "\n",
    "from networkx.algorithms import approximation as approx\n",
    "network_local_node_connectivity = approx.local_node_connectivity(G.degree(Cairo67Unedited),G.degree(MagCrisis)\n",
    "network_local_node_connectivity(G)\n",
    "\n"
   ]
  },
  {
   "cell_type": "code",
   "execution_count": 212,
   "metadata": {},
   "outputs": [],
   "source": [
    "import pandas as ps\n",
    "\n",
    "tweets = ps.read_csv(\"10_Tweets.csv\", memory_map = True)"
   ]
  }
 ],
 "metadata": {
  "kernelspec": {
   "display_name": "Python 3",
   "language": "python",
   "name": "python3"
  },
  "language_info": {
   "codemirror_mode": {
    "name": "ipython",
    "version": 3
   },
   "file_extension": ".py",
   "mimetype": "text/x-python",
   "name": "python",
   "nbconvert_exporter": "python",
   "pygments_lexer": "ipython3",
   "version": "3.7.3"
  }
 },
 "nbformat": 4,
 "nbformat_minor": 2
}
